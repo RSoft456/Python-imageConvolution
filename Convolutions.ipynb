{
 "cells": [
  {
   "cell_type": "code",
   "execution_count": 43,
   "metadata": {},
   "outputs": [],
   "source": [
    "import numpy as np\n",
    "import cv2\n",
    "import matplotlib.pylab as plt\n",
    "import math"
   ]
  },
  {
   "cell_type": "code",
   "execution_count": 44,
   "metadata": {},
   "outputs": [],
   "source": [
    "image = cv2.imread(\"book.jpg\")"
   ]
  },
  {
   "cell_type": "code",
   "execution_count": 45,
   "metadata": {},
   "outputs": [],
   "source": [
    "#performing padding\n",
    "resultSmK3 = np.zeros(shape=(image.shape[0]+2,image.shape[1]+2,3))\n",
    "resultSmK5 = np.zeros(shape=(image.shape[0]+4,image.shape[1]+4,3))\n",
    "resultSmK7 = np.zeros(shape=(image.shape[0]+6,image.shape[1]+6,3))\n",
    "resultShK3 = np.zeros(shape=(image.shape[0]+2,image.shape[1]+2,3))\n"
   ]
  },
  {
   "cell_type": "code",
   "execution_count": 46,
   "metadata": {},
   "outputs": [],
   "source": [
    "Blue_channel=image[:,:,0]\n",
    "Green_channel=image[:,:,1]\n",
    "Red_channel=image[:,:,2]"
   ]
  },
  {
   "cell_type": "code",
   "execution_count": 39,
   "metadata": {},
   "outputs": [],
   "source": [
    "kernel3=(1/9)*(np.array([[1,1,1],[1,1,1],[1,1,1]]))\n",
    "kernel5=(1/25)*(np.array([[1,1,1,1,1],[1,1,1,1,1],[1,1,1,1,1],[1,1,1,1,1],[1,1,1,1,1]]))\n",
    "kernel7=(1/49)*(np.array([[1,1,1,1,1,1,1],[1,1,1,1,1,1,1],[1,1,1,1,1,1,1],[1,1,1,1,1,1,1],[1,1,1,1,1,1,1],[1,1,1,1,1,1,1],[1,1,1,1,1,1,1]]))\n",
    "kernelSh3=np.array([[0,-1,0],[-1,5,-1],[0,-1,0]])"
   ]
  },
  {
   "cell_type": "code",
   "execution_count": 48,
   "metadata": {},
   "outputs": [],
   "source": [
    "#Generic convolution code\n",
    "def Convolution(img,kernel):\n",
    "    #storing size of kerel\n",
    "    rK=kernel.shape[0]\n",
    "    cK=kernel.shape[1]\n",
    "    #Horizaontal and vertical flipping of kernel\n",
    "    np.flip(kernel,axis=0)\n",
    "    np.flip(kernel,axis=1)\n",
    "    #find the num of rows and colums to be padded\n",
    "    newSize=math.floor(rK/2)\n",
    "    #applying padding\n",
    "    imge=np.pad(img, newSize, mode='constant')\n",
    "    #temporary array\n",
    "    result=np.zeros(shape=(imge.shape[0],imge.shape[1]))\n",
    "    #storing sizes of padded image\n",
    "    ri=imge.shape[0]\n",
    "    ci=imge.shape[1]\n",
    "    #looping for convolution\n",
    "    for i in range(ri):\n",
    "      for j in range(ci):\n",
    "        sum =0\n",
    "        if((i>(newSize-1) and i<ri-(newSize) ) and (j>(newSize-1) and j<ci-(newSize) )):\n",
    "          x=i-newSize\n",
    "          for l in range(rK):\n",
    "            y=j-newSize\n",
    "            for m in range(cK):\n",
    "              sum += imge[x,y]*kernel[l,m]\n",
    "              y+=1\n",
    "            x+=1\n",
    "          result[i,j]=sum\n",
    "    np.clip(result,0,255)\n",
    "    return result    "
   ]
  },
  {
   "cell_type": "code",
   "execution_count": 49,
   "metadata": {},
   "outputs": [
    {
     "data": {
      "text/plain": [
       "True"
      ]
     },
     "execution_count": 49,
     "metadata": {},
     "output_type": "execute_result"
    }
   ],
   "source": [
    "resultSmK3[:,:,0]=Convolution(Blue_channel,kernel3)\n",
    "resultSmK3[:,:,1]=Convolution(Green_channel,kernel3)\n",
    "resultSmK3[:,:,2]=Convolution(Red_channel,kernel3)\n",
    "cv2.imwrite(\"Smootheing(3x3).jpg\",resultSmK3)\n",
    "resultSmK5[:,:,0]=Convolution(Blue_channel,kernel5)\n",
    "resultSmK5[:,:,1]=Convolution(Green_channel,kernel5)\n",
    "resultSmK5[:,:,2]=Convolution(Red_channel,kernel5)\n",
    "cv2.imwrite(\"Smootheing(5x5).jpg\",resultSmK5)\n",
    "resultSmK7[:,:,0]=Convolution(Blue_channel,kernel7)\n",
    "resultSmK7[:,:,1]=Convolution(Green_channel,kernel7)\n",
    "resultSmK7[:,:,2]=Convolution(Red_channel,kernel7)\n",
    "cv2.imwrite(\"Smootheing(7x7).jpg\",resultSmK7)\n",
    "resultShK3[:,:,0]=Convolution(Blue_channel,kernelSh3)\n",
    "resultShK3[:,:,1]=Convolution(Green_channel,kernelSh3)\n",
    "resultShK3[:,:,2]=Convolution(Red_channel,kernelSh3)\n",
    "cv2.imwrite(\"Sharpening(3x3).jpg\",resultShK3)"
   ]
  },
  {
   "cell_type": "code",
   "execution_count": 50,
   "metadata": {},
   "outputs": [
    {
     "data": {
      "text/plain": [
       "True"
      ]
     },
     "execution_count": 50,
     "metadata": {},
     "output_type": "execute_result"
    }
   ],
   "source": [
    "\n",
    "#Performed buil-in convolution to confirm results with self made function\n",
    "img=cv2.filter2D(image,-1,kernel5)\n",
    "cv2.imwrite(\"smooth(5x5).jpg\",img)\n",
    "\n",
    "img=cv2.filter2D(image,-1,kernel3)\n",
    "cv2.imwrite(\"smooth(3x3).jpg\",img)\n",
    "\n",
    "img=cv2.filter2D(image,-1,kernel7)\n",
    "cv2.imwrite(\"smooth(7x7).jpg\",img)\n",
    "\n",
    "img=cv2.filter2D(image,-1,kernelSh3)\n",
    "cv2.imwrite(\"sharp(5x3).jpg\",img)"
   ]
  },
  {
   "cell_type": "code",
   "execution_count": null,
   "metadata": {},
   "outputs": [],
   "source": [
    "#HArdcoded convolution function\n",
    "def HConvolution(img,kernel):\n",
    "    size=kernel.shape[0]\n",
    "    np.flip(kernel,axis=0)\n",
    "    np.flip(kernel,axis=1)\n",
    "    if(size==3):\n",
    "      imge=np.pad(img, 1, mode='constant')\n",
    "      result=np.zeros(shape=(imge.shape[0],imge.shape[1]))\n",
    "      ri=imge.shape[0]\n",
    "      ci=imge.shape[1]\n",
    "      for i in range(ri):\n",
    "        for j in range(ci):\n",
    "          if((i>0 and i<ri-1 ) and (j>0 and j<ci-1 )):\n",
    "            result[i,j]=imge[i,j]*kernel[1,1] + imge[i,j+1]*kernel[1,2]+imge[i,j-1]*kernel[1,0]+imge[i-1,j]*kernel[0,1]+imge[i+1,j]*kernel[2,1]+imge[i-1,j-1]*kernel[0,0]+imge[i-1,j+1]*kernel[0,2]+imge[i+1,j-1]*kernel[2,0]+imge[i+1,j+1]*kernel[2,2]\n",
    "      return result\n",
    "    elif(size==5):\n",
    "      imge=np.pad(img, 2, mode='constant')\n",
    "      result=np.zeros(shape=(imge.shape[0],imge.shape[1]))\n",
    "      ri=imge.shape[0]\n",
    "      ci=imge.shape[1]\n",
    "      for i in range(ri):\n",
    "        for j in range(ci):\n",
    "          if((i>1 and i<ri-2 ) and (j>1 and j<ci-2 )):\n",
    "            result[i,j]=imge[i,j]*kernel[2,2] + imge[i,j+1]*kernel[2,3] + imge[i,j+2]*kernel[2,4]+imge[i,j-1]*kernel[2,1]+imge[i,j-2]*kernel[2,0]+imge[i-1,j]*kernel[1,2]+imge[i-2,j]*kernel[0,2]+imge[i+1,j]*kernel[3,2]+imge[i+2,j]*kernel[4,2]+imge[i-1,j-1]*kernel[1,1]+imge[i-2,j-2]*kernel[0,0]+imge[i+1,j+1]*kernel[3,3]+imge[i+2,j+2]*kernel[4,4]+imge[i+1,j-1]*kernel[3,1]+imge[i+2,j-2]*kernel[4,0]+imge[i-2,j-1]*kernel[0,1]+imge[i-1,j-2]*kernel[1,0]+imge[i-2,j+1]*kernel[0,3]+imge[i-1,j+2]*kernel[1,4]+imge[i+1,j+2]*kernel[3,4]+imge[i+2,j+1]*kernel[4,3]+imge[i+1,j-2]*kernel[3,0]+imge[i+2,j-1]*kernel[4,1]\n",
    "      return result\n",
    "    elif(size==7):\n",
    "      imge=np.pad(img, 3, mode='constant')\n",
    "      result=np.zeros(shape=(imge.shape[0],imge.shape[1]))\n",
    "      ri=imge.shape[0]\n",
    "      ci=imge.shape[1]\n",
    "      for i in range(ri):\n",
    "        for j in range(ci):\n",
    "          if((i>2 and i<ri-3 ) and (j>2 and j<ci-3 )):\n",
    "            result[i,j]=imge[i,j]*kernel[3,3] + imge[i,j+1]*kernel[3,4] + imge[i,j+2]*kernel[3,5] + imge[i,j+3]*kernel[3,6]+imge[i,j-1]*kernel[3,2]+imge[i,j-2]*kernel[3,1]+imge[i,j-3]*kernel[3,0]+imge[i-1,j]*kernel[2,3]+imge[i-2,j]*kernel[1,3]+imge[i-3,j]*kernel[0,3]+imge[i+1,j]*kernel[4,3]+imge[i+2,j]*kernel[5,3]+imge[i+3,j]*kernel[6,3]+imge[i-1,j-1]*kernel[2,2]+imge[i-2,j-2]*kernel[1,1]+imge[i-3,j-3]*kernel[0,0]+imge[i+1,j+1]*kernel[4,4]+imge[i+2,j+2]*kernel[5,5]+imge[i+3,j+3]*kernel[6,6]+imge[i+1,j-1]*kernel[4,2]+imge[i+2,j-2]*kernel[5,1]+imge[i+3,j-3]*kernel[6,0]+imge[i-1,j+1]*kernel[2,4]+imge[i-2,j+2]*kernel[1,5]+imge[i-3,j+3]*kernel[0,6]+imge[i-2,j-1]*kernel[1,2]+imge[i-3,j-1]*kernel[0,2]+imge[i-3,j-2]*kernel[0,1]+imge[i-2,j-3]*kernel[1,0]+imge[i-1,j-3]*kernel[2,0]+imge[i-1,j-2]*kernel[2,1]+imge[i-2,j+1]*kernel[1,4]+imge[i-3,j+1]*kernel[0,4]+imge[i-1,j+2]*kernel[2,5]+imge[i-1,j+3]*kernel[2,6]+imge[i-2,j+3]*kernel[1,6]+imge[i+1,j+2]*kernel[4,5]+imge[i+1,j+3]*kernel[4,6]+imge[i+2,j+1]*kernel[5,4]+imge[i+3,j+1]*kernel[6,4]+imge[i+3,j+2]*kernel[6,5]+imge[i+1,j-2]*kernel[4,1]+imge[i+1,j-3]*kernel[4,0]+imge[i+2,j-3]*kernel[5,0]+imge[i+3,j-2]*kernel[6,1]+imge[i+3,j-1]*kernel[6,2]+imge[i+2,j-1]*kernel[5,2]\n",
    "      return result\n"
   ]
  }
 ],
 "metadata": {
  "interpreter": {
   "hash": "6d46af94c2bbce495f1e668725902fa517c90b1782bcfe2fce0dd9868df553d3"
  },
  "kernelspec": {
   "display_name": "Python 3.9.7 ('base')",
   "language": "python",
   "name": "python3"
  },
  "language_info": {
   "codemirror_mode": {
    "name": "ipython",
    "version": 3
   },
   "file_extension": ".py",
   "mimetype": "text/x-python",
   "name": "python",
   "nbconvert_exporter": "python",
   "pygments_lexer": "ipython3",
   "version": "3.9.7"
  },
  "orig_nbformat": 4
 },
 "nbformat": 4,
 "nbformat_minor": 2
}
