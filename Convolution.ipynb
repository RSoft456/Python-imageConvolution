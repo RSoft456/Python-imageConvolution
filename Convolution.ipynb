{
 "cells": [
  {
   "cell_type": "code",
   "execution_count": 2,
   "metadata": {},
   "outputs": [],
   "source": [
    "import numpy as np\n",
    "import cv2\n",
    "import matplotlib.pylab as plt"
   ]
  },
  {
   "cell_type": "code",
   "execution_count": 10,
   "metadata": {},
   "outputs": [],
   "source": [
    "image = cv2.imread(\"book.jpg\")\n",
    "cv2.imshow('image',image)\n",
    "cv2.waitKey(0)\n",
    "cv2.destroyAllWindows()"
   ]
  },
  {
   "cell_type": "code",
   "execution_count": 15,
   "metadata": {},
   "outputs": [],
   "source": [
    "#performing padding\n",
    "resultSmK3 = np.zeros(shape=(image.shape[0],image.shape[1],3))\n",
    "resultSmK5 = np.zeros(shape=(image.shape[0],image.shape[1],3))\n",
    "resultSmK7 = np.zeros(shape=(image.shape[0],image.shape[1],3))\n",
    "resultShK3 = np.zeros(shape=(image.shape[0],image.shape[1],3))"
   ]
  },
  {
   "cell_type": "code",
   "execution_count": 12,
   "metadata": {},
   "outputs": [],
   "source": [
    "Blue_channel=image[:,:,0]\n",
    "Green_channel=image[:,:,1]\n",
    "Red_channel=image[:,:,2]\n",
    "#cv2.imshow('blue',Blue_channel)\n",
    "#cv2.imshow('green',Green_channel)\n",
    "#cv2.imshow('red',Red_channel)\n",
    "#cv2.waitKey(0)\n",
    "#cv2.destroyAllWindows()\n"
   ]
  },
  {
   "cell_type": "code",
   "execution_count": 13,
   "metadata": {},
   "outputs": [],
   "source": [
    "kernel3=(1/9)*(np.array([[1,1,1],[1,1,1],[1,1,1]]))\n",
    "kernel5=(1/25)*(np.array([[1,1,1,1,1],[1,1,1,1,1],[1,1,1,1,1],[1,1,1,1,1],[1,1,1,1,1]]))\n",
    "kernel7=(1/49)*(np.array([[1,1,1,1,1,1,1],[1,1,1,1,1,1,1],[1,1,1,1,1,1,1],[1,1,1,1,1,1,1],[1,1,1,1,1,1,1],[1,1,1,1,1,1,1],[1,1,1,1,1,1,1]]))"
   ]
  },
  {
   "cell_type": "code",
   "execution_count": null,
   "metadata": {},
   "outputs": [],
   "source": [
    "def Convolution(img,kernel):\n",
    "    ri=img.shape[0]\n",
    "    ci=img.shape[1]\n",
    "    rk=img.shape[0]\n",
    "    ck=img.shape[1]\n",
    "    for i in img:\n",
    "        print (img)\n",
    "\n"
   ]
  },
  {
   "cell_type": "code",
   "execution_count": null,
   "metadata": {},
   "outputs": [],
   "source": [
    "resultSmK3=Convolution(image,kernel3)\n",
    "resultSmK5=Convolution(image,kernel5)\n",
    "resultSmK7=Convolution(image,kernel7)"
   ]
  },
  {
   "cell_type": "code",
   "execution_count": null,
   "metadata": {},
   "outputs": [],
   "source": []
  }
 ],
 "metadata": {
  "interpreter": {
   "hash": "6d46af94c2bbce495f1e668725902fa517c90b1782bcfe2fce0dd9868df553d3"
  },
  "kernelspec": {
   "display_name": "Python 3.9.7 ('base')",
   "language": "python",
   "name": "python3"
  },
  "language_info": {
   "codemirror_mode": {
    "name": "ipython",
    "version": 3
   },
   "file_extension": ".py",
   "mimetype": "text/x-python",
   "name": "python",
   "nbconvert_exporter": "python",
   "pygments_lexer": "ipython3",
   "version": "3.9.7"
  },
  "orig_nbformat": 4
 },
 "nbformat": 4,
 "nbformat_minor": 2
}
